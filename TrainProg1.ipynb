{
  "nbformat": 4,
  "nbformat_minor": 0,
  "metadata": {
    "colab": {
      "provenance": [],
      "authorship_tag": "ABX9TyOi1cHYLuU/JniZny8n46tt",
      "include_colab_link": true
    },
    "kernelspec": {
      "name": "python3",
      "display_name": "Python 3"
    },
    "language_info": {
      "name": "python"
    }
  },
  "cells": [
    {
      "cell_type": "markdown",
      "metadata": {
        "id": "view-in-github",
        "colab_type": "text"
      },
      "source": [
        "<a href=\"https://colab.research.google.com/github/victornator25/TrainProgramming/blob/main/TrainProg1.ipynb\" target=\"_parent\"><img src=\"https://colab.research.google.com/assets/colab-badge.svg\" alt=\"Open In Colab\"/></a>"
      ]
    },
    {
      "cell_type": "markdown",
      "source": [
        "#Notebook para practicar programación desde cero.\n",
        "#Nivel: Facil"
      ],
      "metadata": {
        "id": "ObkcQXN2PeiB"
      }
    },
    {
      "cell_type": "code",
      "execution_count": null,
      "metadata": {
        "colab": {
          "base_uri": "https://localhost:8080/"
        },
        "id": "Y0zjthZYEbve",
        "outputId": "0645b618-f70e-4031-a249-58aea56a27b4"
      },
      "outputs": [
        {
          "output_type": "stream",
          "name": "stdout",
          "text": [
            "inserte una cadena de caracteresTATATOTA\n",
            "inserte una subcadenaTA\n",
            "3\n"
          ]
        }
      ],
      "source": [
        "#Codico que cuenta subcadenas dento de una cadena más larga de caracteres\n",
        "sl=input('inserte una cadena de caracteres')\n",
        "sc=input('inserte una subcadena')\n",
        "\n",
        "def contar_subcadenas(SL,SC):\n",
        "  contador=0\n",
        "  n=len(SL)\n",
        "  m=len(SC)\n",
        "  for i in range(len(SL)):\n",
        "    if SL[i:i+m]==SC:\n",
        "      contador+=1\n",
        "  print(contador)\n",
        "\n",
        "\n",
        "\n",
        "contar_subcadenas(sl,sc)"
      ]
    },
    {
      "cell_type": "code",
      "source": [
        "#CODIGO QUE CUENTA LAS VOCALES DENTRO DE UNA CADENA DE CARACTERES\n",
        "s=input('inserte una cadena de texto')\n",
        "\n",
        "def contar_vocales(S):\n",
        "  vocales=['a', 'e', 'i', 'o', 'u', 'A', 'E', 'I', 'O', 'U']\n",
        "  contador=0\n",
        "  for i in range(len(S)):\n",
        "    for j in range(len(vocales)):\n",
        "      if S[i]==vocales[j]:\n",
        "        contador += 1\n",
        "  print(contador)\n",
        "\n",
        "contar_vocales(s)\n",
        "\n"
      ],
      "metadata": {
        "id": "KwahnB5lYxuU",
        "colab": {
          "base_uri": "https://localhost:8080/"
        },
        "outputId": "5c5fc6d0-b6fe-4832-9241-8304cc0da785"
      },
      "execution_count": null,
      "outputs": [
        {
          "output_type": "stream",
          "name": "stdout",
          "text": [
            "inserte una cadena de textohola mundo\n",
            "4\n"
          ]
        }
      ]
    },
    {
      "cell_type": "markdown",
      "source": [
        "Nota: recursión para texto largo nbo es lo más eficiente\n",
        "\n",
        "recordatorio de función range()\n",
        "# range(inicio, fin, paso)  \n",
        "#Inicio inclusive, fin exclusive, paso"
      ],
      "metadata": {
        "id": "bUS_qLaNFrv6"
      }
    },
    {
      "cell_type": "code",
      "source": [
        "#Invertir cadena de caracteres--versión iterativa\n",
        "#verificar si es un palidromo\n",
        "\n",
        "s1='cadena de caracteres'\n",
        "s2='reconocer'\n",
        "def invertir_cadena(S):\n",
        "\n",
        "  invert='' #inicializamos la cadena invert\n",
        "  for i in range(len(S)-1,-1,-1): #inicio len(S)-1 dado que inicia en 0, paso=-1 porque va desde el final a inicio\n",
        "                                  #y fin=-1 porque -1 no se incluye, entonces va hasta el cero range(inicio(inclusive), fin(exclusive), paso)\n",
        "    invert=invert+S[i] #vamos construyendo invert\n",
        "  print(invert)\n",
        "  if invert==S:\n",
        "    print(S+' es palidromo')\n",
        "\n",
        "\n",
        "invertir_cadena(s2)"
      ],
      "metadata": {
        "colab": {
          "base_uri": "https://localhost:8080/"
        },
        "id": "THboOfz_Je0j",
        "outputId": "e6533b53-0808-40cf-8f4f-48b114f049f9"
      },
      "execution_count": null,
      "outputs": [
        {
          "output_type": "stream",
          "name": "stdout",
          "text": [
            "reconocer\n",
            "reconocer es palidromo\n"
          ]
        }
      ]
    },
    {
      "cell_type": "code",
      "source": [
        "#Invertir cadena de caracteres--versión recursiva\n",
        "#verificar si es un palidromo\n",
        "# es un problema que se resuelve más naturalmente con recursividad\n",
        "\n",
        "s1='cadena de caracteresss'\n",
        "s2='reconocer'\n",
        "def invertir_cadena_rec(S):\n",
        "  if len(S) <= 1:\n",
        "    return S\n",
        "  else:\n",
        "    invert_r=\"\"\n",
        "    invert_r= invertir_cadena_rec(S[1:])+S[0] #en recursio lo que queda hasta arriba de la pila es lo que sale primero\n",
        "  if invert_r[:]==S[:]:\n",
        "    print(S +' es palidromo r')\n",
        "  return invert_r\n",
        "\n",
        "invertir_cadena_rec(s1)\n"
      ],
      "metadata": {
        "colab": {
          "base_uri": "https://localhost:8080/",
          "height": 70
        },
        "id": "2rsdC_cGLtxy",
        "outputId": "35288dfc-4421-48b0-f4d3-40757180417d"
      },
      "execution_count": null,
      "outputs": [
        {
          "output_type": "stream",
          "name": "stdout",
          "text": [
            "ss es palidromo r\n",
            "sss es palidromo r\n"
          ]
        },
        {
          "output_type": "execute_result",
          "data": {
            "text/plain": [
              "'ssseretcarac ed anedac'"
            ],
            "application/vnd.google.colaboratory.intrinsic+json": {
              "type": "string"
            }
          },
          "metadata": {},
          "execution_count": 29
        }
      ]
    },
    {
      "cell_type": "code",
      "source": [
        "L1=[1,3,6,22,44,77,34,67,11]    ###programando SUMA de forma iterativa\n",
        "\n",
        "def sum_iter(L):\n",
        "  suma=0\n",
        "  for i in range(len(L)):\n",
        "    suma=suma+L[i]\n",
        "  return suma\n",
        "\n",
        "sum_iter(L1)"
      ],
      "metadata": {
        "colab": {
          "base_uri": "https://localhost:8080/"
        },
        "id": "8KToc3EXd9t9",
        "outputId": "42bf6d93-9a03-4271-a4a4-3788e2f3f2ab"
      },
      "execution_count": null,
      "outputs": [
        {
          "output_type": "execute_result",
          "data": {
            "text/plain": [
              "265"
            ]
          },
          "metadata": {},
          "execution_count": 6
        }
      ]
    },
    {
      "cell_type": "code",
      "source": [
        "L2=[1,3,6,22,44,77,34,67,12]\n",
        "L3=[]    ###programando un SUMA de forma recursiva\n",
        "\n",
        "def sum_rec(L):\n",
        "  if len(L)==0:\n",
        "    return 0\n",
        "  else:\n",
        "    suma=L[0] + sum_rec(L[1:])\n",
        "    return suma\n",
        "\n",
        "sum_rec(L2)"
      ],
      "metadata": {
        "colab": {
          "base_uri": "https://localhost:8080/"
        },
        "id": "avGBGlUylHYj",
        "outputId": "478bff3d-7bbf-4c1e-e00a-a1217743cf33"
      },
      "execution_count": null,
      "outputs": [
        {
          "output_type": "execute_result",
          "data": {
            "text/plain": [
              "266"
            ]
          },
          "metadata": {},
          "execution_count": 23
        }
      ]
    },
    {
      "cell_type": "code",
      "source": [
        "#factorial de un número de forma iterativa\n",
        "\n",
        "n=4\n",
        "def factorial_iter(N):\n",
        "  fac=1 #inicializamois en 1 para el caso 0!=1\n",
        "  for i in range(N):\n",
        "    fac=fac*(n-i)\n",
        "  return fac\n",
        "\n",
        "factorial_iter(n)"
      ],
      "metadata": {
        "colab": {
          "base_uri": "https://localhost:8080/"
        },
        "id": "ScE359eFoBZU",
        "outputId": "9f959b55-531d-4d01-a94e-c722e3d96d9c"
      },
      "execution_count": null,
      "outputs": [
        {
          "output_type": "execute_result",
          "data": {
            "text/plain": [
              "24"
            ]
          },
          "metadata": {},
          "execution_count": 30
        }
      ]
    },
    {
      "cell_type": "code",
      "source": [
        "#factorial de un número de forma recursiva\n",
        "\n",
        "n2=7\n",
        "def factorial_rec(N):\n",
        "  if N==0:\n",
        "    return 1 #caso base 0!=1\n",
        "  else:\n",
        "    fac=factorial_rec(N-1)*N\n",
        "    return fac\n",
        "\n",
        "factorial_rec(n2)\n"
      ],
      "metadata": {
        "colab": {
          "base_uri": "https://localhost:8080/"
        },
        "id": "pC0i5rxRUD-A",
        "outputId": "a060d9f3-a65a-4bda-899d-6f1951671560"
      },
      "execution_count": null,
      "outputs": [
        {
          "output_type": "execute_result",
          "data": {
            "text/plain": [
              "5040"
            ]
          },
          "metadata": {},
          "execution_count": 32
        }
      ]
    },
    {
      "cell_type": "code",
      "source": [
        "#Fibonacci manera iterativa\n",
        "nf=5\n",
        "\n",
        "def fibonacci_iter(N):\n",
        "  fibo=[]\n",
        "  if N==1:\n",
        "    fibo=[0]\n",
        "    return fibo\n",
        "  elif N==2:\n",
        "    fibo=[0,1]\n",
        "    return fibo\n",
        "  fibo=[0,1]\n",
        "  for i in range(2,N):\n",
        "    sig=fibo[i-1]+fibo[i-2]\n",
        "    fibo.append(sig)\n",
        "  return fibo\n",
        "\n",
        "fibonacci_iter(nf)\n",
        "\n"
      ],
      "metadata": {
        "colab": {
          "base_uri": "https://localhost:8080/"
        },
        "id": "1NoFuE4RqFcz",
        "outputId": "aeeb30f9-75bd-4ee8-f2ef-6425ca7d5a1f"
      },
      "execution_count": null,
      "outputs": [
        {
          "output_type": "execute_result",
          "data": {
            "text/plain": [
              "[0, 1, 1, 2, 3]"
            ]
          },
          "metadata": {},
          "execution_count": 2
        }
      ]
    },
    {
      "cell_type": "code",
      "source": [
        "#fibonacci forma recursiva\n",
        "nf=5\n",
        "def fibonacci_rec(N):\n",
        "  fibo=[]\n",
        "  if N==1:\n",
        "    fibo=[0]\n",
        "    return fibo\n",
        "  elif N==2:\n",
        "    fibo=[0,1]\n",
        "    return fibo\n",
        "  else:\n",
        "    fibo=[0,1]\n",
        "    fibo=fibonacci_rec(N-1)\n",
        "    sig=fibo[-1]+fibo[-2]\n",
        "    fibo.append(sig)\n",
        "    return fibo\n",
        "\n",
        "fibonacci_rec(nf)\n"
      ],
      "metadata": {
        "colab": {
          "base_uri": "https://localhost:8080/"
        },
        "id": "-A2P0ayO-ACB",
        "outputId": "e1d736c7-0ac3-40b2-edf7-50ab6ccf5e3e"
      },
      "execution_count": null,
      "outputs": [
        {
          "output_type": "execute_result",
          "data": {
            "text/plain": [
              "[0, 1, 1, 2, 3]"
            ]
          },
          "metadata": {},
          "execution_count": 16
        }
      ]
    },
    {
      "cell_type": "code",
      "source": [
        "#Verificar si un numero N numero es primo\n",
        "import math as mt\n",
        "p1=4\n",
        "def es_primo(N):\n",
        "  if N<2:\n",
        "    print('numeros menores a 2 no son primos')\n",
        "    return False\n",
        "  rN=int(mt.sqrt(N)) +1\n",
        "  for i in range(2,rN):\n",
        "    if N % i==0:\n",
        "      print\n",
        "      print(f'{N} no es primo (divisible entre {i})')\n",
        "      return False\n",
        "  print(f'{N} es primo')\n",
        "\n",
        "\n",
        "es_primo(p1)"
      ],
      "metadata": {
        "colab": {
          "base_uri": "https://localhost:8080/"
        },
        "id": "24DXyUONim_N",
        "outputId": "1aa2e4b1-f428-4042-95f8-bdacb9d9a03d"
      },
      "execution_count": null,
      "outputs": [
        {
          "output_type": "stream",
          "name": "stdout",
          "text": [
            "4 no es primo (divisible entre 2)\n"
          ]
        },
        {
          "output_type": "execute_result",
          "data": {
            "text/plain": [
              "False"
            ]
          },
          "metadata": {},
          "execution_count": 34
        }
      ]
    },
    {
      "cell_type": "code",
      "source": [
        "#problema 4 exam CIMAT 2020---Numeros triangulares:\n",
        "#subcodigo: imprimir los primeros n numeros triangulares iterativo\n",
        "\n",
        "tt=9\n",
        "\n",
        "def n_triang(N):\n",
        "  x=[]\n",
        "  for i in range(1,N+1):\n",
        "    sig=(i*(i+1))//2  # // división entera en python\n",
        "    x.append(sig)\n",
        "  return x\n",
        "n_triang(tt)"
      ],
      "metadata": {
        "colab": {
          "base_uri": "https://localhost:8080/"
        },
        "id": "uqDgQaI0MeoE",
        "outputId": "f7db7122-654a-4528-abaa-3fe747c41825"
      },
      "execution_count": null,
      "outputs": [
        {
          "output_type": "execute_result",
          "data": {
            "text/plain": [
              "[1, 3, 6, 10, 15, 21, 28, 36, 45]"
            ]
          },
          "metadata": {},
          "execution_count": 54
        }
      ]
    },
    {
      "cell_type": "code",
      "source": [
        "#problema 4 exam CIMAT 2020---Numeros triangulares:\n",
        "#subcodigo: imprimir los primeros n numeros triangulares --- recursivo\n",
        "\n",
        "tt=9\n",
        "\n",
        "def n_trinag_rec(N):\n",
        "  x=[]\n",
        "  if N<1:\n",
        "    print('da un N valido')\n",
        "    return False\n",
        "  elif N==1:\n",
        "    x=[1]\n",
        "    return x\n",
        "\n",
        "  else:\n",
        "    x=n_trinag_rec(N-1)\n",
        "    sig=N*(N+1)//2\n",
        "    x.append(sig)\n",
        "    return x\n",
        "\n",
        "\n",
        "n_trinag_rec(tt)\n",
        "\n"
      ],
      "metadata": {
        "colab": {
          "base_uri": "https://localhost:8080/"
        },
        "id": "WdZq--TdQKxl",
        "outputId": "062295a7-7186-4345-e5d4-43ce6b0d71ca"
      },
      "execution_count": null,
      "outputs": [
        {
          "output_type": "execute_result",
          "data": {
            "text/plain": [
              "[1, 3, 6, 10, 15, 21, 28, 36, 45]"
            ]
          },
          "metadata": {},
          "execution_count": 2
        }
      ]
    },
    {
      "cell_type": "code",
      "source": [
        "#problema 4 exam CIMAT 2020---Numeros triangulares:\n",
        "import math as mt\n",
        "t1=10\n",
        "t2=38\n",
        "def verif_triang(N):\n",
        "  if N<1:\n",
        "    print('ingresa un entero válido')\n",
        "    return False\n",
        "  else:\n",
        "    n=(1+mt.sqrt(1+8*N))/2\n",
        "    if n%1==0:\n",
        "      print(f'tu numero: {N} sí pertenece a los triangulares \\nen la pos: {int(n-1)}')\n",
        "      return True\n",
        "    else:\n",
        "      print('el numero no pertenece a los triangulares')\n",
        "      return False\n",
        "    return n+1\n",
        "\n",
        "\n",
        "verif_triang(t1)"
      ],
      "metadata": {
        "colab": {
          "base_uri": "https://localhost:8080/"
        },
        "id": "nq4nngfNDjKI",
        "outputId": "72525cbe-40c5-4d08-fd8e-94ce7829a9f6"
      },
      "execution_count": null,
      "outputs": [
        {
          "output_type": "stream",
          "name": "stdout",
          "text": [
            "tu numero: 10 sí pertenece a los triangulares \n",
            "en la pos: 4\n"
          ]
        },
        {
          "output_type": "execute_result",
          "data": {
            "text/plain": [
              "True"
            ]
          },
          "metadata": {},
          "execution_count": 13
        }
      ]
    },
    {
      "cell_type": "code",
      "source": [
        "#Problema 1 examen computación 2015\n",
        "#contar a aisladas\n",
        "\n",
        "C=['a','d','a','a','f','a','g','r','r','a','0']\n",
        "\n",
        "def contador_aaisladas(A):\n",
        "  contador=0\n",
        "  i=0\n",
        "  while A[i]!='0':\n",
        "    if A[i]=='a' and A[i+1]!='a' and A[i-1]!='a':\n",
        "      contador +=1\n",
        "    i+=1\n",
        "  return contador\n",
        "\n",
        "contador_aaisladas(C)"
      ],
      "metadata": {
        "colab": {
          "base_uri": "https://localhost:8080/"
        },
        "id": "9MOCXaXe97nO",
        "outputId": "3fc538a5-6c8b-40bb-9619-1d3f778b7715"
      },
      "execution_count": null,
      "outputs": [
        {
          "output_type": "execute_result",
          "data": {
            "text/plain": [
              "3"
            ]
          },
          "metadata": {},
          "execution_count": 17
        }
      ]
    },
    {
      "cell_type": "code",
      "source": [
        "#Problema 2 examen 2015 suma de las diagonales de una matriz\n",
        "#de derecha a izquierda, arriba abajo\n",
        "\n",
        "A=[[10,26],\n",
        "   [12,20],\n",
        "   [-5,4]]\n",
        "\n",
        "def suma_diagonales(M):\n",
        "    m = len(M) #renglones\n",
        "    n = len(M[0]) #columnas\n",
        "    diag = []\n",
        "    #para las diagonales superiores y central\n",
        "    for j in range(n-1,-1,-1):\n",
        "      i=0\n",
        "      suma=0\n",
        "      while i<m and j<n:\n",
        "        suma+=M[i][j]\n",
        "        i += 1\n",
        "        j += 1\n",
        "      diag.append(suma)\n",
        "\n",
        "    #para las diagonales inferiores\n",
        "    for i in range(1,m): #acordarse que el limite superior es exclusive\n",
        "      j=0\n",
        "      suma=0\n",
        "      while i<m and j<n:\n",
        "        suma += M[i][j]\n",
        "        i+=1\n",
        "        j+=1\n",
        "      diag.append(suma)\n",
        "    return diag\n",
        "\n",
        "\n",
        "\n",
        "suma_diagonales(A)"
      ],
      "metadata": {
        "colab": {
          "base_uri": "https://localhost:8080/"
        },
        "id": "8Q8fk96cFD0o",
        "outputId": "0cfa09c2-c887-4d51-d207-95a92769330e"
      },
      "execution_count": null,
      "outputs": [
        {
          "output_type": "execute_result",
          "data": {
            "text/plain": [
              "[26, 30, 16, -5]"
            ]
          },
          "metadata": {},
          "execution_count": 1
        }
      ]
    },
    {
      "cell_type": "code",
      "source": [],
      "metadata": {
        "id": "rTr5aK2F0ZUd"
      },
      "execution_count": null,
      "outputs": []
    },
    {
      "cell_type": "code",
      "source": [
        "#roblema 5 examen Cimat 2015\n",
        "#funcion que determina si un numero es potencia de 2\n",
        "\n",
        "import math as mt\n",
        "\n",
        "def es_potencia2(N):\n",
        "  l=mt.log(N,2)\n",
        "  if l % 1 != 0:\n",
        "    return False\n",
        "  else:\n",
        "    return True\n",
        "\n",
        "es_potencia2(16)"
      ],
      "metadata": {
        "colab": {
          "base_uri": "https://localhost:8080/"
        },
        "id": "4_FAK5_-LL39",
        "outputId": "589fa78f-7bfb-45c2-acab-c466d7b180b1"
      },
      "execution_count": null,
      "outputs": [
        {
          "output_type": "execute_result",
          "data": {
            "text/plain": [
              "True"
            ]
          },
          "metadata": {},
          "execution_count": 11
        }
      ]
    },
    {
      "cell_type": "code",
      "source": [
        "#Problema 6 examen cimat 2015\n",
        "\n",
        "'''\n",
        "dado un sistema\n",
        "  ax + by = c\n",
        "  dx + ey = f\n",
        "encontrar x y y ST= 1 si tiene solucion\n",
        "ST= 0 si no tiene soluciones\n",
        "ST=2 si tiene infinitas soluciones\n",
        "\n",
        "'''\n",
        "def solucion2x2(a,b,c,d,e,f):\n",
        "  D=(a*e)-(d*b)\n",
        "  m1, m2 = (-a/b), (-d/e)\n",
        "  alpha1=m1/m2\n",
        "  alpha2=(c*e)/(b*f)\n",
        "\n",
        "  if D!=0:\n",
        "    x=((c*e)-(b*f))/D\n",
        "    y=((a*f)-(d*c))/D\n",
        "    ST=0\n",
        "    print(f'x={x}, y={y}, ST={ST}')\n",
        "    return x, y, ST\n",
        "\n",
        "  else:\n",
        "    if alpha1==alpha2:  #tambien funciona: if a/d==b/e==c/f --> a/d==b/e and b/e==c/f por tricotomía\n",
        "      ST=2\n",
        "      print(f'soluciones infinitas ST={ST}')\n",
        "      return ST\n",
        "\n",
        "    else:\n",
        "      ST=0\n",
        "      print(f'cero soluciones ST={ST}')\n",
        "      return ST\n",
        "\n",
        "\n",
        "solucion2x2(1,2,3,2,4,7)\n"
      ],
      "metadata": {
        "colab": {
          "base_uri": "https://localhost:8080/"
        },
        "id": "wmqy7_JqNiNG",
        "outputId": "a26825e0-94d4-4f96-d87f-924bcd315bf2"
      },
      "execution_count": null,
      "outputs": [
        {
          "output_type": "stream",
          "name": "stdout",
          "text": [
            "cero soluciones ST=0\n"
          ]
        },
        {
          "output_type": "execute_result",
          "data": {
            "text/plain": [
              "0"
            ]
          },
          "metadata": {},
          "execution_count": 7
        }
      ]
    },
    {
      "cell_type": "code",
      "source": [
        "#problema 7 examen cimatg 2015\n",
        "#Las maneras de las que se puede sumar un numero\n",
        "\n",
        "from itertools import combinations\n",
        "\n",
        "A=[1, 2, 3, 4, 5, 6, 7, 9]\n",
        "\n",
        "def contar_imprimir_combinaciones(M, S):\n",
        "    contador = 0\n",
        "    subconjuntos = []\n",
        "    n = len(M)\n",
        "\n",
        "    for r in range(1, n+1):\n",
        "        for comb in combinations(M, r):\n",
        "            if sum(comb) == S:\n",
        "                subconjuntos.append(list(comb))  # Convertimos a lista\n",
        "                contador += 1\n",
        "\n",
        "    print(\"Subconjuntos cuya suma es\", S, \":\")\n",
        "    for sub in subconjuntos:\n",
        "        print(sub)\n",
        "\n",
        "    print(f\"Total de subconjuntos: {contador}\")\n",
        "    return contador\n",
        "\n",
        "contar_imprimir_combinaciones(A, 7)"
      ],
      "metadata": {
        "id": "QjZGlW-MLJX0",
        "colab": {
          "base_uri": "https://localhost:8080/"
        },
        "outputId": "5c6de11c-ca71-4a72-f74c-da08d5f8e321"
      },
      "execution_count": null,
      "outputs": [
        {
          "output_type": "stream",
          "name": "stdout",
          "text": [
            "Subconjuntos cuya suma es 7 :\n",
            "[7]\n",
            "[1, 6]\n",
            "[2, 5]\n",
            "[3, 4]\n",
            "[1, 2, 4]\n",
            "Total de subconjuntos: 5\n"
          ]
        },
        {
          "output_type": "execute_result",
          "data": {
            "text/plain": [
              "5"
            ]
          },
          "metadata": {},
          "execution_count": 4
        }
      ]
    },
    {
      "cell_type": "code",
      "source": [
        "# ejercicio 1 examen 2016\n",
        "# division entera unicamente usando restas:\n",
        "\n",
        "def div_entera_1(a,b):\n",
        "  i=1\n",
        "  while a-b>b:\n",
        "    a=a-b\n",
        "    i += 1\n",
        "  return i\n",
        "  print(f'{a}//{b}={i}')\n",
        "\n",
        "div_entera_1(111,10)"
      ],
      "metadata": {
        "colab": {
          "base_uri": "https://localhost:8080/"
        },
        "id": "LV5hPqaZecPP",
        "outputId": "0227d13d-c2a3-44f0-be97-7744c40f5240"
      },
      "execution_count": null,
      "outputs": [
        {
          "output_type": "execute_result",
          "data": {
            "text/plain": [
              "11"
            ]
          },
          "metadata": {},
          "execution_count": 3
        }
      ]
    },
    {
      "cell_type": "code",
      "source": [
        "#ejercicio 2 examen 2016\n",
        "# n catalan\n",
        "\n",
        "def n_catalan(n):\n",
        "  listC=[]\n",
        "  if n==0:\n",
        "    listC.append(1)\n",
        "    return listC[0]\n",
        "\n",
        "  else:\n",
        "    listC=[1]\n",
        "    for i in range(0,n,1):\n",
        "      sig=listC[0]\n",
        "      sig += listC[i]*listC[i-1]\n",
        "      listC.append(sig)\n",
        "    return listC[-2]\n",
        "\n",
        "n_catalan(8)"
      ],
      "metadata": {
        "colab": {
          "base_uri": "https://localhost:8080/"
        },
        "id": "PSiAJy3PmJK5",
        "outputId": "bbe28532-50b2-4369-a9b9-f80fb1e6d1ed"
      },
      "execution_count": null,
      "outputs": [
        {
          "output_type": "execute_result",
          "data": {
            "text/plain": [
              "528706"
            ]
          },
          "metadata": {},
          "execution_count": 31
        }
      ]
    },
    {
      "cell_type": "code",
      "source": [
        "#Algoritmo de aproximación de horner\n",
        "\n",
        "def horner(x,n,A):\n",
        "  for i in range(1,n):\n",
        "    P=0\n",
        "    P+=pow(x,i)*A[i]\n",
        "  return P\n",
        "\n",
        "a=[1,0,-3,2]\n",
        "horner(3,3,a)\n",
        "\n",
        "###pendiente revision como funciona metodo Horner\n"
      ],
      "metadata": {
        "colab": {
          "base_uri": "https://localhost:8080/"
        },
        "id": "nx5ryVK84mns",
        "outputId": "d35c19b4-8570-4500-f64d-064749dea3ab"
      },
      "execution_count": null,
      "outputs": [
        {
          "output_type": "execute_result",
          "data": {
            "text/plain": [
              "-26"
            ]
          },
          "metadata": {},
          "execution_count": 7
        }
      ]
    },
    {
      "cell_type": "code",
      "source": [
        "#problema 7 examen 2016\n",
        "#calcular moda de una matriz\n",
        "\n",
        "#para practicar primero hacemos una funcion que calcule la moda de un arreglo\n",
        "\n",
        "arr=[3, 7, 2, 5, 5, 9, 1, 3, 8, 2, 3, 4, 5, 7, 3, 6, 3, 2, 10, 5]\n",
        "\n",
        "def calcular_moda(A):\n",
        "    max_repeticiones = 0\n",
        "    moda = None\n",
        "\n",
        "    for i in A:\n",
        "        repeticiones = 0\n",
        "        for j in A:\n",
        "            if i == j:\n",
        "                repeticiones += 1\n",
        "        if repeticiones > max_repeticiones:\n",
        "            max_repeticiones = repeticiones\n",
        "            moda = i\n",
        "    return moda, max_repeticiones\n",
        "calcular_moda(arr)"
      ],
      "metadata": {
        "colab": {
          "base_uri": "https://localhost:8080/"
        },
        "id": "8MvqpNzEhZHb",
        "outputId": "78a0fa8f-2d7c-4d25-9b9c-85c0e4cf36b4"
      },
      "execution_count": null,
      "outputs": [
        {
          "output_type": "execute_result",
          "data": {
            "text/plain": [
              "(3, 5)"
            ]
          },
          "metadata": {},
          "execution_count": 4
        }
      ]
    },
    {
      "cell_type": "code",
      "source": [
        "\n",
        "def moda_matriz(A):\n",
        "  max_reps=0\n",
        "  moda=None\n",
        "  m=len(A)\n",
        "  n=len(A[0])\n",
        "  for i in range(m):\n",
        "    for j in range(n):\n",
        "      reps=0\n",
        "      for h in range(m):\n",
        "        for k in range(n):\n",
        "          if A[i][j]==A[h][k]:\n",
        "            reps +=1\n",
        "      if reps>max_reps:\n",
        "        max_reps= reps\n",
        "        moda=A[i][j]\n",
        "  return moda, max_reps\n",
        "\n",
        "B = [\n",
        "    [1, 5, 2, 8, 3, 7, 4],\n",
        "    [6, 2, 3, 9, 1, 4, 7],\n",
        "    [4, 5, 6, 3, 2, 1, 8],\n",
        "    [7, 2, 1, 3, 5, 9, 6],\n",
        "    [2, 4, 1, 3, 7, 6, 5]\n",
        "]\n",
        "\n",
        "moda_matriz(B)\n"
      ],
      "metadata": {
        "colab": {
          "base_uri": "https://localhost:8080/"
        },
        "id": "xFSPbhDzGpEe",
        "outputId": "0ea3fe99-1e3f-4c0a-ce76-6cc5e43edd4f"
      },
      "execution_count": null,
      "outputs": [
        {
          "output_type": "execute_result",
          "data": {
            "text/plain": [
              "(1, 5)"
            ]
          },
          "metadata": {},
          "execution_count": 2
        }
      ]
    },
    {
      "cell_type": "code",
      "source": [
        "#Problema 6 del examen del 2019\n",
        "\n",
        "def minInbalance(C,S,w):\n",
        "  n=len(w)\n",
        "  if n%2 !=0:\n",
        "    w.append(0) ##se agrega lugar vacio\n",
        "\n",
        "  w.sort()\n",
        "  n_2=len(w)\n",
        "  suma=0\n",
        "  for i in range(len(w)):\n",
        "    suma += w[i]\n",
        "    AM=suma/(0.5*n_2)\n",
        "\n",
        "\n",
        "  combs=[]\n",
        "  for i in range(len(w)//2): #se recorre hasta la mitad\n",
        "    comb=[w[i],w[-(i+1)]]\n",
        "    combs.append(comb)\n",
        "\n",
        "  a=len(combs)\n",
        "  b=len(combs[0]) # en este caso siemre es igual a 2\n",
        "  D=[]\n",
        "  for fila in combs:\n",
        "      suma= fila[0]+fila[1]\n",
        "      d=abs(suma-AM)\n",
        "      D.append(d)\n",
        "\n",
        "\n",
        "  return min(D)\n",
        "\n",
        "weights=[6,3,8]\n",
        "minInbalance(2,3,weights)\n",
        "\n",
        "\n",
        "####La salida debería ser 1, hay algo que corregir"
      ],
      "metadata": {
        "colab": {
          "base_uri": "https://localhost:8080/"
        },
        "id": "oViVqaLIBbPL",
        "outputId": "fef01973-abe8-4bbd-9216-40e1749b066e"
      },
      "execution_count": null,
      "outputs": [
        {
          "output_type": "execute_result",
          "data": {
            "text/plain": [
              "0.5"
            ]
          },
          "metadata": {},
          "execution_count": 24
        }
      ]
    },
    {
      "cell_type": "code",
      "source": [
        "## funcion de practica: calcula el minimo de un arreglo\n",
        "A=[12,4,6,12,3,9,5,8,3]\n",
        "\n",
        "def buscaMin(M):\n",
        "  m=M[0]\n",
        "  for i in range(1,len(M)):\n",
        "    if M[i]<m:\n",
        "      min=M[i]\n",
        "  return min\n",
        "\n",
        "#buscaMin(A)\n",
        "\n",
        "## funcion de practica: calcula el minimo de una matrtiz\n",
        "\n",
        "B = [\n",
        "    [1, 5, 2, 8, 3, 7, 4],\n",
        "    [6, 2, 3, 9, 1, 4, 7],\n",
        "    [4, 5, 6, 3, 2, 1, 8],\n",
        "    [7, 2, 0.5, 3, 5, 9, 6],\n",
        "    [2, 4, 1, 3, 7, 6, 5]\n",
        "]\n",
        "\n",
        "def minMatriz_V1(M):\n",
        "  m=len(M)\n",
        "  n=len(M[0])\n",
        "  min =M[0][0]\n",
        "\n",
        "  for i in range(m):\n",
        "    for j in range(n):\n",
        "      if M[i][j] < min:\n",
        "        min=M[i][j]\n",
        "  return min\n",
        "\n",
        "\n",
        "\n",
        "##versión más interretada usando bondades de python\n",
        "\n",
        "def minMatriz_V2(M):\n",
        "  m=len(M)\n",
        "  n=len(M[0])\n",
        "  min =M[0][0]\n",
        "\n",
        "  for row in M:\n",
        "    for elemento in row:\n",
        "      if elemento<min:\n",
        "        min=elemento\n",
        "  return min\n",
        "\n",
        "minMatriz_V1(B)"
      ],
      "metadata": {
        "colab": {
          "base_uri": "https://localhost:8080/"
        },
        "id": "-k0I3e9ai4S3",
        "outputId": "be6fd9ea-af90-47ea-e22d-19da4fd5fa4a"
      },
      "execution_count": null,
      "outputs": [
        {
          "output_type": "execute_result",
          "data": {
            "text/plain": [
              "0.5"
            ]
          },
          "metadata": {},
          "execution_count": 29
        }
      ]
    },
    {
      "cell_type": "code",
      "source": [
        "## ejercicio PRODUCTO MATRICIAL\n",
        "def prodMatrix(A,B):\n",
        "  m,n=len(A), len(A[0])\n",
        "  p,q=len(B), len(B[0])\n",
        "  if n!=p:\n",
        "    print('No está definido el pproducto')\n",
        "    return None\n",
        "  else:\n",
        "    C=[[0 for z in range(p)] for z in range(n)]\n",
        "    for i in range(m):\n",
        "      for j in range(q):\n",
        "        suma=0\n",
        "        for k in range(n):\n",
        "          suma+= A[i][k]*B[k][j]\n",
        "          C[i][j]=suma\n",
        "  return C\n",
        "\n",
        "a = [[1, 2, 3],\n",
        "     [4, 5, 6]]\n",
        "\n",
        "b = [[7, 8],\n",
        "     [9, 10],\n",
        "     [11, 12]]\n",
        "\n",
        "prodMatrix(a,b)\n",
        "\n"
      ],
      "metadata": {
        "colab": {
          "base_uri": "https://localhost:8080/"
        },
        "id": "auPUGIXdERhc",
        "outputId": "43f7cbfc-00d6-4eac-ec29-987203d983a3"
      },
      "execution_count": null,
      "outputs": [
        {
          "output_type": "execute_result",
          "data": {
            "text/plain": [
              "[[58, 64, 0], [139, 154, 0], [0, 0, 0]]"
            ]
          },
          "metadata": {},
          "execution_count": 32
        }
      ]
    },
    {
      "cell_type": "code",
      "source": [
        "#codigo SUMA DE MATRICES\n",
        "\n",
        "def sumaMatrix(A,B):\n",
        "  m,n=len(A), len(A[0])\n",
        "  p,q=len(B), len(B[0])\n",
        "\n",
        "  if m==p and n==q:\n",
        "    C=[[0 for z in range(m)] for z in range(n)]\n",
        "\n",
        "    for i in range(m):\n",
        "      for j in range(n):\n",
        "        suma=A[i][j]+B[i][j]\n",
        "        C[i][j]=suma\n",
        "    return C\n",
        "\n",
        "  else:\n",
        "    print('la suma no está definida')\n",
        "    return None\n",
        "\n",
        "a1 = [\n",
        "    [1, 2, 3],\n",
        "    [4, 5, 6],\n",
        "    [7, 8, 9]\n",
        "]\n",
        "\n",
        "b1 = [\n",
        "    [9, 8, 7],\n",
        "    [6, 5, 4],\n",
        "    [3, 2, 1]\n",
        "]\n",
        "\n",
        "sumaMatrix(a1,b1)\n"
      ],
      "metadata": {
        "colab": {
          "base_uri": "https://localhost:8080/"
        },
        "id": "NaI4X65MHvx9",
        "outputId": "3ca86a03-43f4-4107-904c-42fa8745ecb5"
      },
      "execution_count": null,
      "outputs": [
        {
          "output_type": "execute_result",
          "data": {
            "text/plain": [
              "[[10, 10, 10], [10, 10, 10], [10, 10, 10]]"
            ]
          },
          "metadata": {},
          "execution_count": 5
        }
      ]
    },
    {
      "cell_type": "code",
      "source": [
        "### problema 1 exam 2025  PRODUCTO DE KRONECKER\n",
        "def prodKronecker(A,B):\n",
        "  m,n=len(A), len(A[0])\n",
        "  p,q=len(B), len(B[0])\n",
        "  #el producto será una matriz de tamaño pm x nq\n",
        "  pm=p*m\n",
        "  nq=n*q\n",
        "  C=[[0 for z in range(nq)]for z in range(pm)]\n",
        "  for i in range(m):\n",
        "    for j in range(n):\n",
        "      for h in range(p):\n",
        "        for k in range(q):\n",
        "          C[i*p+h][j*q+k]=A[i][j]*B[h][k]\n",
        "\n",
        "  return C"
      ],
      "metadata": {
        "id": "aAKu_a6sZqVE"
      },
      "execution_count": null,
      "outputs": []
    },
    {
      "cell_type": "code",
      "source": [
        "#examen 2022 ejercicio 1 CALCULAR mediana\n",
        "arr1 = [8, 3, 7, 1, 9]\n",
        "arr2 = [10, 2, 5, 4, 1, 8]\n",
        "\n",
        "def calcularMediana(A):\n",
        "  A.sort()\n",
        "  mi=len(A)//2\n",
        "  if len(A)%2==0:\n",
        "    medio1=A[mi-1] #la indexacion es desde cero\n",
        "    medio2=A[mi]\n",
        "    mediana=0.5*(medio1+medio2)\n",
        "    return mediana\n",
        "\n",
        "\n",
        "  else:\n",
        "    mediana=A[mi]\n",
        "    return mediana\n",
        "\n",
        "calcularMediana(arr2)\n",
        "\n",
        "\n"
      ],
      "metadata": {
        "colab": {
          "base_uri": "https://localhost:8080/"
        },
        "id": "RkvqODV4ruep",
        "outputId": "131c33bb-c9ad-4dcc-e9de-4ff1135ccdbb"
      },
      "execution_count": null,
      "outputs": [
        {
          "output_type": "execute_result",
          "data": {
            "text/plain": [
              "4.5"
            ]
          },
          "metadata": {},
          "execution_count": 4
        }
      ]
    },
    {
      "cell_type": "code",
      "source": [
        "#problema 1 examen 2021 N RIMEROS PRIMOS\n",
        "import math as mt\n",
        "\n",
        "def Nprimos(N):\n",
        "  primos=[]\n",
        "  n=int(N)\n",
        "  if n>49 and n<1:\n",
        "    print('escoje un numero entre 1 y 49')\n",
        "    return None\n",
        "  else:\n",
        "    candidato=2\n",
        "    while len(primos)<n:\n",
        "      es_primo=True\n",
        "      for i in range(2,int(mt.sqrt(candidato))+1):\n",
        "        if candidato %i ==0:\n",
        "          es_primo=False\n",
        "      if es_primo:\n",
        "        primos.append(candidato)\n",
        "      candidato +=1\n",
        "  return primos\n",
        "\n",
        "\n",
        "Nprimos(30)\n"
      ],
      "metadata": {
        "colab": {
          "base_uri": "https://localhost:8080/"
        },
        "id": "aEqSqCxkT-Vt",
        "outputId": "f69d4574-d0a5-40cf-807c-74063d7fb145"
      },
      "execution_count": null,
      "outputs": [
        {
          "output_type": "execute_result",
          "data": {
            "text/plain": [
              "[2,\n",
              " 3,\n",
              " 5,\n",
              " 7,\n",
              " 11,\n",
              " 13,\n",
              " 17,\n",
              " 19,\n",
              " 23,\n",
              " 29,\n",
              " 31,\n",
              " 37,\n",
              " 41,\n",
              " 43,\n",
              " 47,\n",
              " 53,\n",
              " 59,\n",
              " 61,\n",
              " 67,\n",
              " 71,\n",
              " 73,\n",
              " 79,\n",
              " 83,\n",
              " 89,\n",
              " 97,\n",
              " 101,\n",
              " 103,\n",
              " 107,\n",
              " 109,\n",
              " 113]"
            ]
          },
          "metadata": {},
          "execution_count": 8
        }
      ]
    },
    {
      "cell_type": "code",
      "source": [
        "#Problema 2 2021 dadas matrices A y B respponder si  A es la inversa de B\n",
        "\n",
        "def es_inversa(A,B):\n",
        "  m,n=len(A), len(A[0])\n",
        "  p,q=len(B), len(B[0])\n",
        "  I=[[0 for z in range(n)] for x in range(m)]\n",
        "  for i in range(m):\n",
        "    for j in range(n):\n",
        "      if i==j:\n",
        "        I[i][j]=1\n",
        "      else:\n",
        "        I[i][j]=0\n",
        "\n",
        "  if m!=q or p!=n or m!=n:\n",
        "    print('Use solo matrices cuadradas del mismo tamaño')\n",
        "    return None\n",
        "\n",
        "\n",
        "\n",
        "  C=[[0 for z in range(n)] for z in range(m)]\n",
        "  for i in range(m):\n",
        "    for j in range(n):\n",
        "      suma=0\n",
        "      for k in range(m):\n",
        "        suma+=A[i][k]*B[k][j]\n",
        "      C[i][j]=suma\n",
        "\n",
        "\n",
        "  for a in range(m):\n",
        "    for b in range(n):\n",
        "      if C[a][b]!=I[a][b]:\n",
        "        return False\n",
        "  return True\n",
        "\n",
        "\n",
        "#### a1 si es la inversa de b1\n",
        "a1 = [[2, 3],\n",
        "     [1, 2]]\n",
        "\n",
        "b1 = [[ 2, -3],\n",
        "     [-1,  2]]\n",
        "\n",
        "#a2 no es la inversa de b2\n",
        "a2 = [[1, 2],\n",
        "     [3, 4]]\n",
        "\n",
        "b2 = [[2, 0],\n",
        "     [0, 2]]\n",
        "\n",
        "\n",
        "\n",
        "es_inversa(a2,b2)"
      ],
      "metadata": {
        "colab": {
          "base_uri": "https://localhost:8080/"
        },
        "id": "kYFUDmacGnLg",
        "outputId": "3a415d3e-debe-4dea-b4a2-0222f4682a0d"
      },
      "execution_count": null,
      "outputs": [
        {
          "output_type": "execute_result",
          "data": {
            "text/plain": [
              "False"
            ]
          },
          "metadata": {},
          "execution_count": 14
        }
      ]
    },
    {
      "cell_type": "code",
      "source": [
        "# problema 5 cimat 2024 SUB ARREGLO CUYO PRODUCTO SEA MÍNIMO\n",
        "\n",
        "\n",
        "def minProduc(A):\n",
        "  #estrategia sin tener todas las combinaciones\n",
        "  A.sort()\n",
        "  arrMinProd=[]\n",
        "  contNeg=0\n",
        "  for elemento in A:\n",
        "    if elemento < 0:\n",
        "      contNeg+=1\n",
        "\n",
        "  cont0=0\n",
        "  for i in range(len(A)):\n",
        "    if A[i]==0:\n",
        "      cont0+=1\n",
        "\n",
        "#caso en el que no hay  y hay ceros\n",
        "  if contNeg==0 and cont0==0:\n",
        "    arrMinProd=[A[0]] #dado que está ordenado\n",
        "    return arrMinProd , A[0]\n",
        "#caso todos elementos positivos y ceros\n",
        "  elif contNeg==0 and cont0 >0:\n",
        "    arrMinProd=A\n",
        "    return arrMinProd, 0\n",
        "\n",
        "#caso en el que hay un numero impar de negativos\n",
        "  elif contNeg > 0 and contNeg % 2 !=0:\n",
        "    for i in range(len(A)):\n",
        "      if A[i]!=0:\n",
        "        arrMinProd.append(A[i])\n",
        "        prod=1\n",
        "        for j in range(len(arrMinProd)):\n",
        "          prod=prod*arrMinProd[j]\n",
        "    return arrMinProd, prod\n",
        "\n",
        "\n",
        "#caso en el que hay un numero par de negativos\n",
        "  elif contNeg>0 and contNeg%2==0:\n",
        "    for i in range(len(A)):\n",
        "      if A[i]!=0:\n",
        "        arrMinProd.append(A[i])\n",
        "\n",
        "#accedemos al contador de negativos\n",
        "    arrMinProd.pop(contNeg-1) #quita el elemento de indice cont neg -1 dado que está ordenada\n",
        "    ## esto para que el producto no sea positivo\n",
        "    prod=1\n",
        "    for i in range(len(arrMinProd)):\n",
        "      prod=prod*arrMinProd[i]\n",
        "    return arrMinProd, prod\n",
        "\n",
        "'''\n",
        "  for elemento in A:\n",
        "    if elemento !=0:\n",
        "      arrMinProd.append(elemento)\n",
        "  return arrMinProd\n",
        "'''\n",
        "a=[-4,-6,-2,3,0,6]\n",
        "b=[2,-9,3,-5,1,-7,0,-8]\n",
        "minProduc(b)"
      ],
      "metadata": {
        "colab": {
          "base_uri": "https://localhost:8080/"
        },
        "id": "nP6DYOmRuJAf",
        "outputId": "594886aa-7449-41ce-93c6-7b1a78ba7846"
      },
      "execution_count": null,
      "outputs": [
        {
          "output_type": "execute_result",
          "data": {
            "text/plain": [
              "([-9, -8, -7, 1, 2, 3], -3024)"
            ]
          },
          "metadata": {},
          "execution_count": 15
        }
      ]
    },
    {
      "cell_type": "code",
      "source": [
        "##cimat 2019 codigo que invierte numero base 10\n",
        "def reverseBase10(n):\n",
        "  result=''\n",
        "  while n>0:\n",
        "    digit = n%10\n",
        "    result=result+str(digit)\n",
        "    n=n//10 #división entera\n",
        "  return result\n",
        "\n",
        "\n",
        "reverseBase10(12345)"
      ],
      "metadata": {
        "colab": {
          "base_uri": "https://localhost:8080/",
          "height": 35
        },
        "id": "DQcNXCUvDKTT",
        "outputId": "c9f14447-c41d-4480-db7d-2d93de2cf05c"
      },
      "execution_count": null,
      "outputs": [
        {
          "output_type": "execute_result",
          "data": {
            "text/plain": [
              "'54321'"
            ],
            "application/vnd.google.colaboratory.intrinsic+json": {
              "type": "string"
            }
          },
          "metadata": {},
          "execution_count": 27
        }
      ]
    }
  ]
}